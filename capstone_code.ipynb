{
 "cells": [
  {
   "cell_type": "markdown",
   "metadata": {},
   "source": [
    "# Machine Learning Engineer Nanodegree\n",
    "## João Pedro Megid Carrilho\n",
    "## Project: Capstone Project"
   ]
  },
  {
   "cell_type": "markdown",
   "metadata": {},
   "source": [
    "References: \n",
    "    https://pt.coursera.org/learn/competitive-data-science/lecture/1Nh5Q/overview /n\n",
    "    http://www.codiply.com/blog/hyperparameter-grid-search-across-multiple-models-in-scikit-learn/\n",
    "    https://pt.coursera.org/learn/machine-learning/lecture/RBqQl/advice-for-applying-pca"
   ]
  },
  {
   "cell_type": "markdown",
   "metadata": {},
   "source": [
    "## Data Exploration\n",
    "In this section we're going to load necessary libraries and analyze some major numerical and statistical characteristics of the data set:"
   ]
  },
  {
   "cell_type": "code",
   "execution_count": 1,
   "metadata": {},
   "outputs": [
    {
     "name": "stdout",
     "output_type": "stream",
     "text": [
      "Spotify data read successfully!\n"
     ]
    }
   ],
   "source": [
    "# Import libraries\n",
    "import numpy as np\n",
    "import pandas as pd\n",
    "from time import time\n",
    "import matplotlib \n",
    "import matplotlib.pyplot as plt\n",
    "\n",
    "from IPython.display import display # Allows the use of display() for DataFrames\n",
    "# Pretty display for notebooks\n",
    "%matplotlib inline\n",
    "# Read student data\n",
    "try:    \n",
    "    spotify_data = pd.read_csv(\"data.csv\")\n",
    "    \n",
    "    print \"Spotify data read successfully!\"\n",
    "except:\n",
    "    print \"Dataset could not be loaded. Is the dataset missing?\""
   ]
  },
  {
   "cell_type": "code",
   "execution_count": 2,
   "metadata": {
    "scrolled": false
   },
   "outputs": [
    {
     "name": "stdout",
     "output_type": "stream",
     "text": [
      "Total number of songs: 2017\n",
      "Number of features: 16\n",
      "Number of songs liked: 1020\n",
      "Number of songs disliked: 997\n",
      "Like rate of songs: 50.57%\n"
     ]
    },
    {
     "data": {
      "text/html": [
       "<div>\n",
       "<style scoped>\n",
       "    .dataframe tbody tr th:only-of-type {\n",
       "        vertical-align: middle;\n",
       "    }\n",
       "\n",
       "    .dataframe tbody tr th {\n",
       "        vertical-align: top;\n",
       "    }\n",
       "\n",
       "    .dataframe thead th {\n",
       "        text-align: right;\n",
       "    }\n",
       "</style>\n",
       "<table border=\"1\" class=\"dataframe\">\n",
       "  <thead>\n",
       "    <tr style=\"text-align: right;\">\n",
       "      <th></th>\n",
       "      <th>Unnamed: 0</th>\n",
       "      <th>acousticness</th>\n",
       "      <th>danceability</th>\n",
       "      <th>duration_ms</th>\n",
       "      <th>energy</th>\n",
       "      <th>instrumentalness</th>\n",
       "      <th>key</th>\n",
       "      <th>liveness</th>\n",
       "      <th>loudness</th>\n",
       "      <th>mode</th>\n",
       "      <th>speechiness</th>\n",
       "      <th>tempo</th>\n",
       "      <th>time_signature</th>\n",
       "      <th>valence</th>\n",
       "      <th>target</th>\n",
       "    </tr>\n",
       "  </thead>\n",
       "  <tbody>\n",
       "    <tr>\n",
       "      <th>count</th>\n",
       "      <td>2017.000000</td>\n",
       "      <td>2017.000000</td>\n",
       "      <td>2017.000000</td>\n",
       "      <td>2.017000e+03</td>\n",
       "      <td>2017.000000</td>\n",
       "      <td>2017.000000</td>\n",
       "      <td>2017.000000</td>\n",
       "      <td>2017.000000</td>\n",
       "      <td>2017.000000</td>\n",
       "      <td>2017.000000</td>\n",
       "      <td>2017.000000</td>\n",
       "      <td>2017.000000</td>\n",
       "      <td>2017.000000</td>\n",
       "      <td>2017.000000</td>\n",
       "      <td>2017.000000</td>\n",
       "    </tr>\n",
       "    <tr>\n",
       "      <th>mean</th>\n",
       "      <td>1008.000000</td>\n",
       "      <td>0.187590</td>\n",
       "      <td>0.618422</td>\n",
       "      <td>2.463062e+05</td>\n",
       "      <td>0.681577</td>\n",
       "      <td>0.133286</td>\n",
       "      <td>5.342588</td>\n",
       "      <td>0.190844</td>\n",
       "      <td>-7.085624</td>\n",
       "      <td>0.612295</td>\n",
       "      <td>0.092664</td>\n",
       "      <td>121.603272</td>\n",
       "      <td>3.968270</td>\n",
       "      <td>0.496815</td>\n",
       "      <td>0.505702</td>\n",
       "    </tr>\n",
       "    <tr>\n",
       "      <th>std</th>\n",
       "      <td>582.402066</td>\n",
       "      <td>0.259989</td>\n",
       "      <td>0.161029</td>\n",
       "      <td>8.198181e+04</td>\n",
       "      <td>0.210273</td>\n",
       "      <td>0.273162</td>\n",
       "      <td>3.648240</td>\n",
       "      <td>0.155453</td>\n",
       "      <td>3.761684</td>\n",
       "      <td>0.487347</td>\n",
       "      <td>0.089931</td>\n",
       "      <td>26.685604</td>\n",
       "      <td>0.255853</td>\n",
       "      <td>0.247195</td>\n",
       "      <td>0.500091</td>\n",
       "    </tr>\n",
       "    <tr>\n",
       "      <th>min</th>\n",
       "      <td>0.000000</td>\n",
       "      <td>0.000003</td>\n",
       "      <td>0.122000</td>\n",
       "      <td>1.604200e+04</td>\n",
       "      <td>0.014800</td>\n",
       "      <td>0.000000</td>\n",
       "      <td>0.000000</td>\n",
       "      <td>0.018800</td>\n",
       "      <td>-33.097000</td>\n",
       "      <td>0.000000</td>\n",
       "      <td>0.023100</td>\n",
       "      <td>47.859000</td>\n",
       "      <td>1.000000</td>\n",
       "      <td>0.034800</td>\n",
       "      <td>0.000000</td>\n",
       "    </tr>\n",
       "    <tr>\n",
       "      <th>50%</th>\n",
       "      <td>1008.000000</td>\n",
       "      <td>0.063300</td>\n",
       "      <td>0.631000</td>\n",
       "      <td>2.292610e+05</td>\n",
       "      <td>0.715000</td>\n",
       "      <td>0.000076</td>\n",
       "      <td>6.000000</td>\n",
       "      <td>0.127000</td>\n",
       "      <td>-6.248000</td>\n",
       "      <td>1.000000</td>\n",
       "      <td>0.054900</td>\n",
       "      <td>121.427000</td>\n",
       "      <td>4.000000</td>\n",
       "      <td>0.492000</td>\n",
       "      <td>1.000000</td>\n",
       "    </tr>\n",
       "    <tr>\n",
       "      <th>max</th>\n",
       "      <td>2016.000000</td>\n",
       "      <td>0.995000</td>\n",
       "      <td>0.984000</td>\n",
       "      <td>1.004627e+06</td>\n",
       "      <td>0.998000</td>\n",
       "      <td>0.976000</td>\n",
       "      <td>11.000000</td>\n",
       "      <td>0.969000</td>\n",
       "      <td>-0.307000</td>\n",
       "      <td>1.000000</td>\n",
       "      <td>0.816000</td>\n",
       "      <td>219.331000</td>\n",
       "      <td>5.000000</td>\n",
       "      <td>0.992000</td>\n",
       "      <td>1.000000</td>\n",
       "    </tr>\n",
       "  </tbody>\n",
       "</table>\n",
       "</div>"
      ],
      "text/plain": [
       "        Unnamed: 0  acousticness  danceability   duration_ms       energy  \\\n",
       "count  2017.000000   2017.000000   2017.000000  2.017000e+03  2017.000000   \n",
       "mean   1008.000000      0.187590      0.618422  2.463062e+05     0.681577   \n",
       "std     582.402066      0.259989      0.161029  8.198181e+04     0.210273   \n",
       "min       0.000000      0.000003      0.122000  1.604200e+04     0.014800   \n",
       "50%    1008.000000      0.063300      0.631000  2.292610e+05     0.715000   \n",
       "max    2016.000000      0.995000      0.984000  1.004627e+06     0.998000   \n",
       "\n",
       "       instrumentalness          key     liveness     loudness         mode  \\\n",
       "count       2017.000000  2017.000000  2017.000000  2017.000000  2017.000000   \n",
       "mean           0.133286     5.342588     0.190844    -7.085624     0.612295   \n",
       "std            0.273162     3.648240     0.155453     3.761684     0.487347   \n",
       "min            0.000000     0.000000     0.018800   -33.097000     0.000000   \n",
       "50%            0.000076     6.000000     0.127000    -6.248000     1.000000   \n",
       "max            0.976000    11.000000     0.969000    -0.307000     1.000000   \n",
       "\n",
       "       speechiness        tempo  time_signature      valence       target  \n",
       "count  2017.000000  2017.000000     2017.000000  2017.000000  2017.000000  \n",
       "mean      0.092664   121.603272        3.968270     0.496815     0.505702  \n",
       "std       0.089931    26.685604        0.255853     0.247195     0.500091  \n",
       "min       0.023100    47.859000        1.000000     0.034800     0.000000  \n",
       "50%       0.054900   121.427000        4.000000     0.492000     1.000000  \n",
       "max       0.816000   219.331000        5.000000     0.992000     1.000000  "
      ]
     },
     "metadata": {},
     "output_type": "display_data"
    }
   ],
   "source": [
    "# Number of samples (songs):\n",
    "n_songs = len(spotify_data)\n",
    "\n",
    "# Number of features (number of columns in the dataset less the target label column):\n",
    "n_features = len(spotify_data.columns) - 1\n",
    "\n",
    "# Number of songs liked:\n",
    "n_liked = len(spotify_data[spotify_data['target'] == 1])\n",
    "\n",
    "# Calculate failing students:\n",
    "n_disliked = len(spotify_data[spotify_data['target'] == 0])\n",
    "\n",
    "# Like rate:\n",
    "like_rate = float(n_liked * 100.0 / n_songs)\n",
    "\n",
    "# Result:\n",
    "print \"Total number of songs: {}\".format(n_songs)\n",
    "print \"Number of features: {}\".format(n_features)\n",
    "print \"Number of songs liked: {}\".format(n_liked)\n",
    "print \"Number of songs disliked: {}\".format(n_disliked)\n",
    "print \"Like rate of songs: {:.2f}%\".format(like_rate)\n",
    "# Display a description of the dataset\n",
    "display(spotify_data.describe(percentiles=[]))"
   ]
  },
  {
   "cell_type": "code",
   "execution_count": 3,
   "metadata": {
    "scrolled": false
   },
   "outputs": [
    {
     "name": "stdout",
     "output_type": "stream",
     "text": [
      "<class 'pandas.core.frame.DataFrame'>\n",
      "RangeIndex: 2017 entries, 0 to 2016\n",
      "Data columns (total 17 columns):\n",
      "Unnamed: 0          2017 non-null int64\n",
      "acousticness        2017 non-null float64\n",
      "danceability        2017 non-null float64\n",
      "duration_ms         2017 non-null int64\n",
      "energy              2017 non-null float64\n",
      "instrumentalness    2017 non-null float64\n",
      "key                 2017 non-null int64\n",
      "liveness            2017 non-null float64\n",
      "loudness            2017 non-null float64\n",
      "mode                2017 non-null int64\n",
      "speechiness         2017 non-null float64\n",
      "tempo               2017 non-null float64\n",
      "time_signature      2017 non-null float64\n",
      "valence             2017 non-null float64\n",
      "target              2017 non-null int64\n",
      "song_title          2017 non-null object\n",
      "artist              2017 non-null object\n",
      "dtypes: float64(10), int64(5), object(2)\n",
      "memory usage: 268.0+ KB\n"
     ]
    }
   ],
   "source": [
    "spotify_data.info()"
   ]
  },
  {
   "cell_type": "code",
   "execution_count": 4,
   "metadata": {},
   "outputs": [],
   "source": [
    "## Removing not analyzed features:\n",
    "spotify_data.drop(['Unnamed: 0','song_title','artist'], axis = 1, inplace = True)"
   ]
  },
  {
   "cell_type": "markdown",
   "metadata": {},
   "source": [
    "### Exploratory Visualization"
   ]
  },
  {
   "cell_type": "code",
   "execution_count": 5,
   "metadata": {},
   "outputs": [
    {
     "data": {
      "text/plain": [
       "array([[<matplotlib.axes._subplots.AxesSubplot object at 0x000000000C2D7080>,\n",
       "        <matplotlib.axes._subplots.AxesSubplot object at 0x000000000C32ECC0>,\n",
       "        <matplotlib.axes._subplots.AxesSubplot object at 0x000000000C355080>,\n",
       "        <matplotlib.axes._subplots.AxesSubplot object at 0x000000000C5F6BE0>],\n",
       "       [<matplotlib.axes._subplots.AxesSubplot object at 0x000000000C588B38>,\n",
       "        <matplotlib.axes._subplots.AxesSubplot object at 0x000000000C704860>,\n",
       "        <matplotlib.axes._subplots.AxesSubplot object at 0x000000000C81C080>,\n",
       "        <matplotlib.axes._subplots.AxesSubplot object at 0x000000000C8AD860>],\n",
       "       [<matplotlib.axes._subplots.AxesSubplot object at 0x000000000C914940>,\n",
       "        <matplotlib.axes._subplots.AxesSubplot object at 0x000000000C9FA860>,\n",
       "        <matplotlib.axes._subplots.AxesSubplot object at 0x000000000CACC550>,\n",
       "        <matplotlib.axes._subplots.AxesSubplot object at 0x000000000CAE3978>],\n",
       "       [<matplotlib.axes._subplots.AxesSubplot object at 0x000000000CBE4DA0>,\n",
       "        <matplotlib.axes._subplots.AxesSubplot object at 0x000000000CAFA518>,\n",
       "        <matplotlib.axes._subplots.AxesSubplot object at 0x000000000CD3E2B0>,\n",
       "        <matplotlib.axes._subplots.AxesSubplot object at 0x000000000CE02E10>]],\n",
       "      dtype=object)"
      ]
     },
     "execution_count": 5,
     "metadata": {},
     "output_type": "execute_result"
    },
    {
     "data": {
      "image/png": "[encoded data removed]",
      "text/plain": [
       "<matplotlib.figure.Figure at 0xc2d7518>"
      ]
     },
     "metadata": {},
     "output_type": "display_data"
    }
   ],
   "source": [
    "#plotting Histogram\n",
    "spotify_data.hist(bins=50, figsize=(20,15))"
   ]
  },
  {
   "cell_type": "markdown",
   "metadata": {},
   "source": [
    "# Preparing the Data\n",
    "In this section, the data will be prepared for our model's training and testing."
   ]
  },
  {
   "cell_type": "code",
   "execution_count": 6,
   "metadata": {
    "scrolled": true
   },
   "outputs": [
    {
     "name": "stdout",
     "output_type": "stream",
     "text": [
      "Feature columns:\n",
      "['acousticness', 'danceability', 'duration_ms', 'energy', 'instrumentalness', 'key', 'liveness', 'loudness', 'mode', 'speechiness', 'tempo', 'time_signature', 'valence']\n",
      "\n",
      "Target column: target\n",
      "\n",
      "Feature values:\n",
      "   acousticness  danceability  duration_ms  energy  instrumentalness  key  \\\n",
      "0        0.0102         0.833       204600   0.434          0.021900    2   \n",
      "1        0.1990         0.743       326933   0.359          0.006110    1   \n",
      "2        0.0344         0.838       185707   0.412          0.000234    2   \n",
      "3        0.6040         0.494       199413   0.338          0.510000    5   \n",
      "4        0.1800         0.678       392893   0.561          0.512000    5   \n",
      "\n",
      "   liveness  loudness  mode  speechiness    tempo  time_signature  valence  \n",
      "0    0.1650    -8.795     1       0.4310  150.062             4.0    0.286  \n",
      "1    0.1370   -10.401     1       0.0794  160.083             4.0    0.588  \n",
      "2    0.1590    -7.148     1       0.2890   75.044             4.0    0.173  \n",
      "3    0.0922   -15.236     1       0.0261   86.468             4.0    0.230  \n",
      "4    0.4390   -11.648     0       0.0694  174.004             4.0    0.904  \n"
     ]
    }
   ],
   "source": [
    "# Extract feature columns\n",
    "feature_cols = list(spotify_data.columns[:-1])\n",
    "\n",
    "# Extract target column 'passed'\n",
    "target_col = spotify_data.columns[-1] \n",
    "\n",
    "# Show the list of columns\n",
    "print \"Feature columns:\\n{}\".format(feature_cols)\n",
    "print \"\\nTarget column: {}\".format(target_col)\n",
    "\n",
    "# Separate the data into feature data and target data (X_all and y_all, respectively)\n",
    "X_all = spotify_data[feature_cols]\n",
    "y_all = spotify_data[target_col]\n",
    "\n",
    "# Show the feature information by printing the first five rows\n",
    "print \"\\nFeature values:\"\n",
    "print X_all.head()"
   ]
  },
  {
   "cell_type": "markdown",
   "metadata": {},
   "source": [
    "### Train Test split"
   ]
  },
  {
   "cell_type": "code",
   "execution_count": 7,
   "metadata": {
    "scrolled": true
   },
   "outputs": [
    {
     "name": "stdout",
     "output_type": "stream",
     "text": [
      "Training set has (1613, 13) samples.\n",
      "Testing set has (404, 13) samples.\n"
     ]
    },
    {
     "name": "stderr",
     "output_type": "stream",
     "text": [
      "C:\\Users\\Carrilho\\AppData\\Local\\conda\\conda\\envs\\Python27\\lib\\site-packages\\sklearn\\model_selection\\_split.py:2026: FutureWarning: From version 0.21, test_size will always complement train_size unless both are specified.\n",
      "  FutureWarning)\n"
     ]
    }
   ],
   "source": [
    "from sklearn.model_selection import train_test_split\n",
    "\n",
    "# Set the number of training points\n",
    "num_train = int(0.8*len(spotify_data))\n",
    "\n",
    "# Set the number of testing points\n",
    "num_test = X_all.shape[0] - num_train\n",
    " \n",
    "# Shuffle and split the dataset into the number of training and testing points above\n",
    "X_train, X_test, y_train, y_test = train_test_split(X_all,y_all,train_size = num_train, random_state = 42, stratify = y_all)\n",
    "# Show the results of the split\n",
    "print \"Training set has {} samples.\".format(X_train.shape)\n",
    "print \"Testing set has {} samples.\".format(X_test.shape)"
   ]
  },
  {
   "cell_type": "markdown",
   "metadata": {},
   "source": [
    "### Implementation: Feature Scaling"
   ]
  },
  {
   "cell_type": "code",
   "execution_count": 8,
   "metadata": {
    "scrolled": false
   },
   "outputs": [
    {
     "data": {
      "text/html": [
       "<div>\n",
       "<style scoped>\n",
       "    .dataframe tbody tr th:only-of-type {\n",
       "        vertical-align: middle;\n",
       "    }\n",
       "\n",
       "    .dataframe tbody tr th {\n",
       "        vertical-align: top;\n",
       "    }\n",
       "\n",
       "    .dataframe thead th {\n",
       "        text-align: right;\n",
       "    }\n",
       "</style>\n",
       "<table border=\"1\" class=\"dataframe\">\n",
       "  <thead>\n",
       "    <tr style=\"text-align: right;\">\n",
       "      <th></th>\n",
       "      <th>acousticness</th>\n",
       "      <th>danceability</th>\n",
       "      <th>duration_ms</th>\n",
       "      <th>energy</th>\n",
       "      <th>instrumentalness</th>\n",
       "      <th>key</th>\n",
       "      <th>liveness</th>\n",
       "      <th>loudness</th>\n",
       "      <th>mode</th>\n",
       "      <th>speechiness</th>\n",
       "      <th>tempo</th>\n",
       "      <th>time_signature</th>\n",
       "      <th>valence</th>\n",
       "    </tr>\n",
       "  </thead>\n",
       "  <tbody>\n",
       "    <tr>\n",
       "      <th>count</th>\n",
       "      <td>1.613000e+03</td>\n",
       "      <td>1.613000e+03</td>\n",
       "      <td>1.613000e+03</td>\n",
       "      <td>1.613000e+03</td>\n",
       "      <td>1.613000e+03</td>\n",
       "      <td>1.613000e+03</td>\n",
       "      <td>1.613000e+03</td>\n",
       "      <td>1.613000e+03</td>\n",
       "      <td>1.613000e+03</td>\n",
       "      <td>1.613000e+03</td>\n",
       "      <td>1.613000e+03</td>\n",
       "      <td>1.613000e+03</td>\n",
       "      <td>1.613000e+03</td>\n",
       "    </tr>\n",
       "    <tr>\n",
       "      <th>mean</th>\n",
       "      <td>5.396248e-17</td>\n",
       "      <td>3.535093e-16</td>\n",
       "      <td>-1.508747e-16</td>\n",
       "      <td>-2.907366e-16</td>\n",
       "      <td>-5.451312e-17</td>\n",
       "      <td>7.708926e-17</td>\n",
       "      <td>-2.863315e-17</td>\n",
       "      <td>-9.801349e-17</td>\n",
       "      <td>-1.101275e-17</td>\n",
       "      <td>2.114448e-16</td>\n",
       "      <td>-1.734508e-16</td>\n",
       "      <td>8.413742e-16</td>\n",
       "      <td>-2.587997e-17</td>\n",
       "    </tr>\n",
       "    <tr>\n",
       "      <th>std</th>\n",
       "      <td>1.000310e+00</td>\n",
       "      <td>1.000310e+00</td>\n",
       "      <td>1.000310e+00</td>\n",
       "      <td>1.000310e+00</td>\n",
       "      <td>1.000310e+00</td>\n",
       "      <td>1.000310e+00</td>\n",
       "      <td>1.000310e+00</td>\n",
       "      <td>1.000310e+00</td>\n",
       "      <td>1.000310e+00</td>\n",
       "      <td>1.000310e+00</td>\n",
       "      <td>1.000310e+00</td>\n",
       "      <td>1.000310e+00</td>\n",
       "      <td>1.000310e+00</td>\n",
       "    </tr>\n",
       "    <tr>\n",
       "      <th>min</th>\n",
       "      <td>-7.136546e-01</td>\n",
       "      <td>-3.031191e+00</td>\n",
       "      <td>-2.836847e+00</td>\n",
       "      <td>-3.213850e+00</td>\n",
       "      <td>-4.919547e-01</td>\n",
       "      <td>-1.470138e+00</td>\n",
       "      <td>-1.119744e+00</td>\n",
       "      <td>-6.503653e+00</td>\n",
       "      <td>-1.265548e+00</td>\n",
       "      <td>-7.703083e-01</td>\n",
       "      <td>-2.791686e+00</td>\n",
       "      <td>-1.194908e+01</td>\n",
       "      <td>-1.839364e+00</td>\n",
       "    </tr>\n",
       "    <tr>\n",
       "      <th>50%</th>\n",
       "      <td>-4.857320e-01</td>\n",
       "      <td>6.300931e-02</td>\n",
       "      <td>-2.116031e-01</td>\n",
       "      <td>1.661881e-01</td>\n",
       "      <td>-4.916678e-01</td>\n",
       "      <td>1.835110e-01</td>\n",
       "      <td>-4.183277e-01</td>\n",
       "      <td>2.118844e-01</td>\n",
       "      <td>7.901712e-01</td>\n",
       "      <td>-4.145122e-01</td>\n",
       "      <td>-2.874897e-04</td>\n",
       "      <td>1.021076e-01</td>\n",
       "      <td>-2.080835e-02</td>\n",
       "    </tr>\n",
       "    <tr>\n",
       "      <th>max</th>\n",
       "      <td>3.143374e+00</td>\n",
       "      <td>2.177174e+00</td>\n",
       "      <td>9.313437e+00</td>\n",
       "      <td>1.500161e+00</td>\n",
       "      <td>3.075707e+00</td>\n",
       "      <td>1.561552e+00</td>\n",
       "      <td>4.928222e+00</td>\n",
       "      <td>1.671226e+00</td>\n",
       "      <td>7.901712e-01</td>\n",
       "      <td>8.101100e+00</td>\n",
       "      <td>3.664560e+00</td>\n",
       "      <td>4.119172e+00</td>\n",
       "      <td>2.018618e+00</td>\n",
       "    </tr>\n",
       "  </tbody>\n",
       "</table>\n",
       "</div>"
      ],
      "text/plain": [
       "       acousticness  danceability   duration_ms        energy  \\\n",
       "count  1.613000e+03  1.613000e+03  1.613000e+03  1.613000e+03   \n",
       "mean   5.396248e-17  3.535093e-16 -1.508747e-16 -2.907366e-16   \n",
       "std    1.000310e+00  1.000310e+00  1.000310e+00  1.000310e+00   \n",
       "min   -7.136546e-01 -3.031191e+00 -2.836847e+00 -3.213850e+00   \n",
       "50%   -4.857320e-01  6.300931e-02 -2.116031e-01  1.661881e-01   \n",
       "max    3.143374e+00  2.177174e+00  9.313437e+00  1.500161e+00   \n",
       "\n",
       "       instrumentalness           key      liveness      loudness  \\\n",
       "count      1.613000e+03  1.613000e+03  1.613000e+03  1.613000e+03   \n",
       "mean      -5.451312e-17  7.708926e-17 -2.863315e-17 -9.801349e-17   \n",
       "std        1.000310e+00  1.000310e+00  1.000310e+00  1.000310e+00   \n",
       "min       -4.919547e-01 -1.470138e+00 -1.119744e+00 -6.503653e+00   \n",
       "50%       -4.916678e-01  1.835110e-01 -4.183277e-01  2.118844e-01   \n",
       "max        3.075707e+00  1.561552e+00  4.928222e+00  1.671226e+00   \n",
       "\n",
       "               mode   speechiness         tempo  time_signature       valence  \n",
       "count  1.613000e+03  1.613000e+03  1.613000e+03    1.613000e+03  1.613000e+03  \n",
       "mean  -1.101275e-17  2.114448e-16 -1.734508e-16    8.413742e-16 -2.587997e-17  \n",
       "std    1.000310e+00  1.000310e+00  1.000310e+00    1.000310e+00  1.000310e+00  \n",
       "min   -1.265548e+00 -7.703083e-01 -2.791686e+00   -1.194908e+01 -1.839364e+00  \n",
       "50%    7.901712e-01 -4.145122e-01 -2.874897e-04    1.021076e-01 -2.080835e-02  \n",
       "max    7.901712e-01  8.101100e+00  3.664560e+00    4.119172e+00  2.018618e+00  "
      ]
     },
     "execution_count": 8,
     "metadata": {},
     "output_type": "execute_result"
    }
   ],
   "source": [
    "# Import, fit and transform data:\n",
    "from sklearn.preprocessing import StandardScaler\n",
    "scaler = StandardScaler()\n",
    "scaler.fit(X_train)\n",
    "scaled_data = X_train.copy()\n",
    "scaled_data = pd.DataFrame(scaler.transform(scaled_data), columns = feature_cols)\n",
    "scaled_data.describe(percentiles=[])"
   ]
  },
  {
   "cell_type": "code",
   "execution_count": 9,
   "metadata": {
    "scrolled": false
   },
   "outputs": [
    {
     "data": {
      "text/plain": [
       "array([[<matplotlib.axes._subplots.AxesSubplot object at 0x0000000010E99080>,\n",
       "        <matplotlib.axes._subplots.AxesSubplot object at 0x0000000010FBAB00>,\n",
       "        <matplotlib.axes._subplots.AxesSubplot object at 0x000000001104D470>,\n",
       "        <matplotlib.axes._subplots.AxesSubplot object at 0x00000000110D2BE0>],\n",
       "       [<matplotlib.axes._subplots.AxesSubplot object at 0x000000001119A2E8>,\n",
       "        <matplotlib.axes._subplots.AxesSubplot object at 0x0000000011221AC8>,\n",
       "        <matplotlib.axes._subplots.AxesSubplot object at 0x00000000113392E8>,\n",
       "        <matplotlib.axes._subplots.AxesSubplot object at 0x00000000113C7A58>],\n",
       "       [<matplotlib.axes._subplots.AxesSubplot object at 0x00000000111F6128>,\n",
       "        <matplotlib.axes._subplots.AxesSubplot object at 0x00000000114EC2E8>,\n",
       "        <matplotlib.axes._subplots.AxesSubplot object at 0x00000000115B10F0>,\n",
       "        <matplotlib.axes._subplots.AxesSubplot object at 0x0000000011643668>],\n",
       "       [<matplotlib.axes._subplots.AxesSubplot object at 0x00000000116D22E8>,\n",
       "        <matplotlib.axes._subplots.AxesSubplot object at 0x000000001179DC88>,\n",
       "        <matplotlib.axes._subplots.AxesSubplot object at 0x00000000117EBDD8>,\n",
       "        <matplotlib.axes._subplots.AxesSubplot object at 0x0000000011EF5A58>]],\n",
       "      dtype=object)"
      ]
     },
     "execution_count": 9,
     "metadata": {},
     "output_type": "execute_result"
    },
    {
     "data": {
      "image/png": "[encoded data removed]",
      "text/plain": [
       "<matplotlib.figure.Figure at 0xee90b00>"
      ]
     },
     "metadata": {},
     "output_type": "display_data"
    }
   ],
   "source": [
    "#Analyzing resulting deistribution:\n",
    "scaled_data.hist(bins=50, figsize=(20,15))"
   ]
  },
  {
   "cell_type": "markdown",
   "metadata": {},
   "source": [
    "### Feature relevance"
   ]
  },
  {
   "cell_type": "code",
   "execution_count": 10,
   "metadata": {},
   "outputs": [
    {
     "data": {
      "text/plain": [
       "target              1.000000\n",
       "speechiness         0.036860\n",
       "acousticness        0.030874\n",
       "duration_ms         0.017278\n",
       "loudness            0.014790\n",
       "valence             0.012553\n",
       "instrumentalness    0.010685\n",
       "tempo               0.008538\n",
       "danceability        0.005346\n",
       "energy              0.003407\n",
       "time_signature     -0.000392\n",
       "liveness           -0.018815\n",
       "key                -0.026790\n",
       "mode               -0.051250\n",
       "Name: target, dtype: float64"
      ]
     },
     "execution_count": 10,
     "metadata": {},
     "output_type": "execute_result"
    }
   ],
   "source": [
    "#Generating Correlation Matrix and deploying results with 'target label':\n",
    "copy_data = scaled_data.copy()\n",
    "copy_data.insert(loc =13, column='target',value=y_train)\n",
    "corr_matrix = copy_data.corr()\n",
    "corr_matrix[\"target\"].sort_values(ascending = False)"
   ]
  },
  {
   "cell_type": "markdown",
   "metadata": {},
   "source": [
    "# Training and evaluating models"
   ]
  },
  {
   "cell_type": "code",
   "execution_count": 11,
   "metadata": {},
   "outputs": [],
   "source": [
    "from sklearn.metrics import accuracy_score\n",
    "\n",
    "def train_classifier(clf, X_train, y_train):\n",
    "    ''' Fits a classifier to the training data. '''\n",
    "    \n",
    "    # Train the classifier\n",
    "    \n",
    "    clf.fit(X_train, y_train)\n",
    "    \n",
    "    \n",
    "    # Print the results\n",
    "    \n",
    "\n",
    "    \n",
    "def predict_labels(clf, features, target):\n",
    "    ''' Makes predictions using a fit classifier based on accuracy score. '''\n",
    "    \n",
    "    # Make predictions\n",
    "\n",
    "    y_pred = clf.predict(features)\n",
    "\n",
    "    \n",
    "    # Print and return results\n",
    "    return accuracy_score(target.values, y_pred)\n",
    "\n",
    "\n",
    "def train_predict(clf, X_train, y_train, X_test, y_test):\n",
    "    ''' Train and predict using a classifer based on accuracy score. '''\n",
    "    \n",
    "    # Indicate the classifier and the training set size\n",
    "    print \"Training a {} using a training set size of {}. . .\".format(clf.__class__.__name__, len(X_train))\n",
    "    \n",
    "    # Train the classifier\n",
    "    train_classifier(clf, X_train, y_train)\n",
    "    \n",
    "    # Print the results of prediction for both training and testing\n",
    "    print \"Accuracy score for training set: {:.4f}.\".format(predict_labels(clf, X_train, y_train))\n",
    "    print \"Accuracy score for test set: {:.4f}.\".format(predict_labels(clf, X_test, y_test))"
   ]
  },
  {
   "cell_type": "code",
   "execution_count": 12,
   "metadata": {
    "scrolled": false
   },
   "outputs": [
    {
     "name": "stdout",
     "output_type": "stream",
     "text": [
      "Training a SVC using a training set size of 500. . .\n",
      "Accuracy score for training set: 0.8020.\n",
      "Accuracy score for test set: 0.7327.\n",
      "Training a SVC using a training set size of 1000. . .\n",
      "Accuracy score for training set: 0.8090.\n",
      "Accuracy score for test set: 0.7525.\n",
      "Training a SVC using a training set size of 1613. . .\n",
      "Accuracy score for training set: 0.8022.\n",
      "Accuracy score for test set: 0.7723.\n",
      "Training a LinearSVC using a training set size of 500. . .\n",
      "Accuracy score for training set: 0.6520.\n",
      "Accuracy score for test set: 0.6733.\n",
      "Training a LinearSVC using a training set size of 1000. . .\n",
      "Accuracy score for training set: 0.6710.\n",
      "Accuracy score for test set: 0.6807.\n",
      "Training a LinearSVC using a training set size of 1613. . .\n",
      "Accuracy score for training set: 0.6671.\n",
      "Accuracy score for test set: 0.6856.\n",
      "Training a AdaBoostClassifier using a training set size of 500. . .\n",
      "Accuracy score for training set: 1.0000.\n",
      "Accuracy score for test set: 0.7054.\n",
      "Training a AdaBoostClassifier using a training set size of 1000. . .\n",
      "Accuracy score for training set: 1.0000.\n",
      "Accuracy score for test set: 0.7500.\n",
      "Training a AdaBoostClassifier using a training set size of 1613. . .\n",
      "Accuracy score for training set: 0.9994.\n",
      "Accuracy score for test set: 0.7748.\n",
      "Training a KNeighborsClassifier using a training set size of 500. . .\n",
      "Accuracy score for training set: 0.7760.\n",
      "Accuracy score for test set: 0.6782.\n",
      "Training a KNeighborsClassifier using a training set size of 1000. . .\n",
      "Accuracy score for training set: 0.8100.\n",
      "Accuracy score for test set: 0.6856.\n",
      "Training a KNeighborsClassifier using a training set size of 1613. . .\n",
      "Accuracy score for training set: 0.8115.\n",
      "Accuracy score for test set: 0.6980.\n"
     ]
    }
   ],
   "source": [
    "from sklearn.svm import SVC,LinearSVC\n",
    "from sklearn.neighbors import KNeighborsClassifier\n",
    "from sklearn.ensemble import AdaBoostClassifier, RandomForestClassifier\n",
    "\n",
    "# Initialize models\n",
    "clf_A = SVC()\n",
    "clf_B = LinearSVC()\n",
    "clf_C = AdaBoostClassifier(RandomForestClassifier(), random_state = 11)\n",
    "clf_D = KNeighborsClassifier()\n",
    "classif = [clf_A,clf_B,clf_C,clf_D]\n",
    "\n",
    "#Adjusting test set\n",
    "scaled_test = pd.DataFrame(scaler.transform(X_test), columns = feature_cols)\n",
    "\n",
    "# Execute the 'train_predict' function for each classifier and each training set size\n",
    "\n",
    "for clf in classif:    \n",
    "    for size in [500, 1000, len(scaled_data)]:\n",
    "        train_predict(clf, scaled_data[:size], y_train[:size], scaled_test, y_test)"
   ]
  },
  {
   "cell_type": "markdown",
   "metadata": {},
   "source": [
    "### SVC and AdaBoostClassifier refinement  "
   ]
  },
  {
   "cell_type": "code",
   "execution_count": 13,
   "metadata": {},
   "outputs": [
    {
     "name": "stdout",
     "output_type": "stream",
     "text": [
      "Tuned model has a training accuracy score of 0.8469.\n",
      "Tuned model has a testing accuracy score of 0.7797.\n"
     ]
    }
   ],
   "source": [
    "#SVC Grid Search\n",
    "from sklearn.model_selection import GridSearchCV\n",
    "from sklearn.metrics import make_scorer\n",
    "\n",
    "\n",
    "parameters =   {'C':[1.5, 1.6, 1.7], 'kernel': ['rbf'], 'gamma': [0.1] }\n",
    "\n",
    "\n",
    "#Initialize the classifier\n",
    "clf_1 = SVC()\n",
    "# Make an f1 scoring function using 'make_scorer' \n",
    "acc_scorer = make_scorer(accuracy_score)\n",
    "\n",
    "# Perform grid search on the classifier using the f1_scorer as the scoring method\n",
    "grid_obj = GridSearchCV(clf_1,parameters,acc_scorer,n_jobs=-1)\n",
    "\n",
    "# Fit the grid search object to the training data and find the optimal parameters\n",
    "grid_obj = grid_obj.fit(scaled_data,y_train)\n",
    "\n",
    "# Get the estimator\n",
    "clf_1 = grid_obj.best_estimator_\n",
    "\n",
    "# Report the final F1 score for training and testing after parameter tuning\n",
    "print \"Tuned model has a training accuracy score of {:.4f}.\".format(predict_labels(clf_1, scaled_data, y_train))\n",
    "print \"Tuned model has a testing accuracy score of {:.4f}.\".format(predict_labels(clf_1, scaled_test, y_test))\n",
    "\n",
    "\n"
   ]
  },
  {
   "cell_type": "code",
   "execution_count": 14,
   "metadata": {
    "scrolled": false
   },
   "outputs": [
    {
     "data": {
      "text/plain": [
       "{'C': 1.7,\n",
       " 'cache_size': 200,\n",
       " 'class_weight': None,\n",
       " 'coef0': 0.0,\n",
       " 'decision_function_shape': 'ovr',\n",
       " 'degree': 3,\n",
       " 'gamma': 0.1,\n",
       " 'kernel': 'rbf',\n",
       " 'max_iter': -1,\n",
       " 'probability': False,\n",
       " 'random_state': None,\n",
       " 'shrinking': True,\n",
       " 'tol': 0.001,\n",
       " 'verbose': False}"
      ]
     },
     "execution_count": 14,
     "metadata": {},
     "output_type": "execute_result"
    }
   ],
   "source": [
    "clf_1.get_params()"
   ]
  },
  {
   "cell_type": "code",
   "execution_count": 15,
   "metadata": {},
   "outputs": [
    {
     "name": "stdout",
     "output_type": "stream",
     "text": [
      "Tuned model has a training accuracy score of 0.9169.\n",
      "Tuned model has a testing accuracy score of 0.7723.\n"
     ]
    }
   ],
   "source": [
    "#AdaBoost Grid Search\n",
    "from sklearn.tree import DecisionTreeClassifier\n",
    "parameters = { 'base_estimator' : [ RandomForestClassifier(max_depth = 3), DecisionTreeClassifier() ], 'n_estimators':  [30,50,70], 'learning_rate':  [0.5,1,1.5] }\n",
    "\n",
    "\n",
    "\n",
    "\n",
    "#Initialize the classifier\n",
    "clf_2 = AdaBoostClassifier(random_state = 11)\n",
    "# Make an f1 scoring function using 'make_scorer' \n",
    "acc_scorer = make_scorer(accuracy_score)\n",
    "\n",
    "# Perform grid search on the classifier using the f1_scorer as the scoring method\n",
    "grid_obj = GridSearchCV(clf_2,parameters,acc_scorer,n_jobs=-1)\n",
    "\n",
    "# Fit the grid search object to the training data and find the optimal parameters\n",
    "grid_obj = grid_obj.fit(scaled_data,y_train)\n",
    "\n",
    "# Get the estimator\n",
    "clf_2 = grid_obj.best_estimator_\n",
    "\n",
    "# Report the final F1 score for training and testing after parameter tuning\n",
    "print \"Tuned model has a training accuracy score of {:.4f}.\".format(predict_labels(clf_2, scaled_data, y_train))\n",
    "print \"Tuned model has a testing accuracy score of {:.4f}.\".format(predict_labels(clf_2, scaled_test, y_test))\n"
   ]
  },
  {
   "cell_type": "code",
   "execution_count": 16,
   "metadata": {
    "scrolled": false
   },
   "outputs": [
    {
     "data": {
      "text/plain": [
       "{'algorithm': 'SAMME.R',\n",
       " 'base_estimator': RandomForestClassifier(bootstrap=True, class_weight=None, criterion='gini',\n",
       "             max_depth=3, max_features='auto', max_leaf_nodes=None,\n",
       "             min_impurity_decrease=0.0, min_impurity_split=None,\n",
       "             min_samples_leaf=1, min_samples_split=2,\n",
       "             min_weight_fraction_leaf=0.0, n_estimators=10, n_jobs=1,\n",
       "             oob_score=False, random_state=None, verbose=0,\n",
       "             warm_start=False),\n",
       " 'base_estimator__bootstrap': True,\n",
       " 'base_estimator__class_weight': None,\n",
       " 'base_estimator__criterion': 'gini',\n",
       " 'base_estimator__max_depth': 3,\n",
       " 'base_estimator__max_features': 'auto',\n",
       " 'base_estimator__max_leaf_nodes': None,\n",
       " 'base_estimator__min_impurity_decrease': 0.0,\n",
       " 'base_estimator__min_impurity_split': None,\n",
       " 'base_estimator__min_samples_leaf': 1,\n",
       " 'base_estimator__min_samples_split': 2,\n",
       " 'base_estimator__min_weight_fraction_leaf': 0.0,\n",
       " 'base_estimator__n_estimators': 10,\n",
       " 'base_estimator__n_jobs': 1,\n",
       " 'base_estimator__oob_score': False,\n",
       " 'base_estimator__random_state': None,\n",
       " 'base_estimator__verbose': 0,\n",
       " 'base_estimator__warm_start': False,\n",
       " 'learning_rate': 1,\n",
       " 'n_estimators': 30,\n",
       " 'random_state': 11}"
      ]
     },
     "execution_count": 16,
     "metadata": {},
     "output_type": "execute_result"
    }
   ],
   "source": [
    "clf_2.get_params()"
   ]
  },
  {
   "cell_type": "markdown",
   "metadata": {},
   "source": [
    "### Confusion Matrix analysis"
   ]
  },
  {
   "cell_type": "code",
   "execution_count": 17,
   "metadata": {},
   "outputs": [
    {
     "name": "stdout",
     "output_type": "stream",
     "text": [
      "Confusion matrix for SVM: \n",
      "[[161  39]\n",
      " [ 50 154]]\n",
      "Confusion matrix for ABC: \n",
      "[[155  45]\n",
      " [ 47 157]]\n"
     ]
    }
   ],
   "source": [
    "from sklearn.metrics import confusion_matrix\n",
    "y_test_s = clf_1.predict(scaled_test)\n",
    "y_test_a = clf_2.predict(scaled_test)\n",
    "print(\"Confusion matrix for SVM: \")\n",
    "print(confusion_matrix(y_test,y_test_s))\n",
    "print(\"Confusion matrix for ABC: \")\n",
    "print(confusion_matrix(y_test, y_test_a))"
   ]
  },
  {
   "cell_type": "markdown",
   "metadata": {},
   "source": [
    "#### Plotting Precision Recall:"
   ]
  },
  {
   "cell_type": "code",
   "execution_count": 18,
   "metadata": {},
   "outputs": [],
   "source": [
    "from sklearn.metrics import precision_recall_curve\n",
    "y_scores_s = clf_1.decision_function(scaled_data)\n",
    "y_scores_a = clf_2.decision_function(scaled_data)\n",
    "\n",
    "precisions_s, recalls_s, thresholds_s = precision_recall_curve(y_train, y_scores_s)\n",
    "precisions_a, recalls_a, thresholds_a = precision_recall_curve(y_train, y_scores_a)\n"
   ]
  },
  {
   "cell_type": "code",
   "execution_count": 19,
   "metadata": {},
   "outputs": [],
   "source": [
    "def plot_precision_recall_vs_threshold(precisions, recalls, thresholds):\n",
    "    plt.plot(thresholds, precisions[:-1], \"b--\", label=\"Precision\", linewidth=2)\n",
    "    plt.plot(thresholds, recalls[:-1], \"g-\", label=\"Recall\", linewidth=2)\n",
    "    plt.xlabel(\"Threshold\", fontsize=16)\n",
    "    plt.legend(loc=\"upper left\", fontsize=16)\n",
    "    plt.ylim([0, 1])\n",
    "\n",
    "    "
   ]
  },
  {
   "cell_type": "code",
   "execution_count": 20,
   "metadata": {
    "scrolled": true
   },
   "outputs": [
    {
     "data": {
      "image/png": "[encoded data removed]",
      "text/plain": [
       "<matplotlib.figure.Figure at 0x11f944e0>"
      ]
     },
     "metadata": {},
     "output_type": "display_data"
    }
   ],
   "source": [
    "plt.figure(figsize=(8, 4))\n",
    "plot_precision_recall_vs_threshold(precisions_s, recalls_s, thresholds_s)\n",
    "plt.xlim([-1.5, 2])\n",
    "plt.show()\n"
   ]
  },
  {
   "cell_type": "markdown",
   "metadata": {},
   "source": [
    "#### ROC Curve Analysis"
   ]
  },
  {
   "cell_type": "code",
   "execution_count": 21,
   "metadata": {},
   "outputs": [],
   "source": [
    "from sklearn.metrics import roc_curve\n",
    "y_scores_1 = clf_1.decision_function(scaled_test)\n",
    "y_scores_2 = clf_2.decision_function(scaled_test)\n",
    "fpr_1, tpr_1, thresholds_1 = roc_curve(y_test, y_scores_1)\n",
    "fpr_2, tpr_2, thresholds_2 = roc_curve(y_test, y_scores_2)"
   ]
  },
  {
   "cell_type": "code",
   "execution_count": 22,
   "metadata": {},
   "outputs": [],
   "source": [
    "def plot_roc_curve(fpr, tpr, label=None):\n",
    "    plt.plot(fpr, tpr, linewidth=2, label=label)\n",
    "    plt.plot([0, 1], [0, 1], 'k--')\n",
    "    plt.axis([0, 1, 0, 1])\n",
    "    plt.xlabel('False Positive Rate', fontsize=16)\n",
    "    plt.ylabel('True Positive Rate', fontsize=16)\n"
   ]
  },
  {
   "cell_type": "code",
   "execution_count": 23,
   "metadata": {},
   "outputs": [
    {
     "data": {
      "image/png": "[encoded data removed]",
      "text/plain": [
       "<matplotlib.figure.Figure at 0x166064a8>"
      ]
     },
     "metadata": {},
     "output_type": "display_data"
    }
   ],
   "source": [
    "plt.figure(figsize=(8, 6))\n",
    "plt.plot(fpr_1, tpr_1, \"b:\", linewidth=2, label=\"SVM\")\n",
    "plot_roc_curve(fpr_2, tpr_2, \"AdaBoostC\")\n",
    "plt.legend(loc=\"lower right\", fontsize=16)\n",
    "plt.show()"
   ]
  },
  {
   "cell_type": "markdown",
   "metadata": {},
   "source": [
    "### K Fold Cross Validation"
   ]
  },
  {
   "cell_type": "code",
   "execution_count": 39,
   "metadata": {},
   "outputs": [
    {
     "name": "stdout",
     "output_type": "stream",
     "text": [
      "('K-FOLD TEST SCORE:', 0.7388724035608308)\n",
      "('K-FOLD TEST SCORE:', 0.7589285714285714)\n",
      "('K-FOLD TEST SCORE:', 0.7410714285714286)\n",
      "('K-FOLD TEST SCORE:', 0.7380952380952381)\n",
      "('K-FOLD TEST SCORE:', 0.7916666666666666)\n",
      "('K-FOLD TEST SCORE:', 0.7619047619047619)\n"
     ]
    }
   ],
   "source": [
    "from sklearn.model_selection import KFold\n",
    "kf = KFold(n_splits = 6, shuffle = True)\n",
    "k_set = scaler.transform(X_all)\n",
    "for train_index , test_index in kf.split(k_set):\n",
    "    clf_1.fit(k_set[train_index],y_all[train_index])\n",
    "    k_pred = clf_1.predict(k_set[test_index])\n",
    "    print(\"K-FOLD TEST SCORE:\", accuracy_score(k_pred,y_all[test_index]))\n"
   ]
  },
  {
   "cell_type": "code",
   "execution_count": null,
   "metadata": {},
   "outputs": [],
   "source": []
  }
 ],
 "metadata": {
  "kernelspec": {
   "display_name": "Python 2",
   "language": "python",
   "name": "python2"
  },
  "language_info": {
   "codemirror_mode": {
    "name": "ipython",
    "version": 2
   },
   "file_extension": ".py",
   "mimetype": "text/x-python",
   "name": "python",
   "nbconvert_exporter": "python",
   "pygments_lexer": "ipython2",
   "version": "2.7.14"
  }
 },
 "nbformat": 4,
 "nbformat_minor": 2
}
